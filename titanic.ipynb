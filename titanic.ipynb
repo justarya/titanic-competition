{
 "cells": [
  {
   "cell_type": "markdown",
   "metadata": {},
   "source": [
    "# Titanic Competition"
   ]
  },
  {
   "cell_type": "markdown",
   "metadata": {},
   "source": [
    "## Preparation"
   ]
  },
  {
   "cell_type": "code",
   "execution_count": 1,
   "metadata": {},
   "outputs": [],
   "source": [
    "import pandas as pd\n",
    "from tensorflow import keras\n",
    "from tensorflow.keras import layers\n",
    "from sklearn import preprocessing\n",
    "import math"
   ]
  },
  {
   "cell_type": "code",
   "execution_count": 211,
   "metadata": {},
   "outputs": [],
   "source": [
    "import numpy as np"
   ]
  },
  {
   "cell_type": "markdown",
   "metadata": {},
   "source": [
    "## Data cleaning\n",
    "### Import data"
   ]
  },
  {
   "cell_type": "code",
   "execution_count": 177,
   "metadata": {},
   "outputs": [],
   "source": [
    "titanic = pd.read_csv('data/train.csv', index_col=0)"
   ]
  },
  {
   "cell_type": "code",
   "execution_count": 178,
   "metadata": {},
   "outputs": [
    {
     "output_type": "execute_result",
     "data": {
      "text/plain": [
       "Survived      int64\n",
       "Pclass        int64\n",
       "Name         object\n",
       "Sex          object\n",
       "Age         float64\n",
       "SibSp         int64\n",
       "Parch         int64\n",
       "Ticket       object\n",
       "Fare        float64\n",
       "Cabin        object\n",
       "Embarked     object\n",
       "dtype: object"
      ]
     },
     "metadata": {},
     "execution_count": 178
    }
   ],
   "source": [
    "titanic.dtypes"
   ]
  },
  {
   "cell_type": "code",
   "execution_count": 180,
   "metadata": {},
   "outputs": [],
   "source": [
    "titanic['Sex'] = (titanic['Sex'] == 'male').astype('int')\n",
    "# female = 0, male = 1"
   ]
  },
  {
   "cell_type": "code",
   "execution_count": 255,
   "metadata": {},
   "outputs": [
    {
     "output_type": "execute_result",
     "data": {
      "text/plain": [
       "Survived      0\n",
       "Pclass        0\n",
       "Name          0\n",
       "Sex           0\n",
       "Age           0\n",
       "SibSp         0\n",
       "Parch         0\n",
       "Ticket        0\n",
       "Fare          0\n",
       "Cabin       687\n",
       "Embarked      2\n",
       "dtype: int64"
      ]
     },
     "metadata": {},
     "execution_count": 255
    }
   ],
   "source": [
    "titanic.isna().sum()"
   ]
  },
  {
   "cell_type": "code",
   "execution_count": 256,
   "metadata": {},
   "outputs": [],
   "source": [
    "# titanic.loc[titanic['Age'].isna(), 'Age'] = titanic['Age'].mean()\n",
    "titanic['Age'].fillna(titanic['Age'].mean(), inplace=True)\n",
    "titanic['Age'] = titanic['Age'] / 100"
   ]
  },
  {
   "cell_type": "code",
   "execution_count": 284,
   "metadata": {},
   "outputs": [],
   "source": [
    "x_feature = ['Pclass', 'Sex', 'Age']\n",
    "y_feature = 'Survived'\n",
    "\n",
    "data_len = len(titanic)\n",
    "train_len = math.floor(data_len * 0.8)"
   ]
  },
  {
   "cell_type": "code",
   "execution_count": 285,
   "metadata": {},
   "outputs": [],
   "source": [
    "train_x = titanic.iloc[train_len:][x_feature]\n",
    "train_y = titanic.iloc[train_len:][y_feature]\n",
    "\n",
    "test_x = titanic.iloc[:train_len][x_feature]\n",
    "test_y = titanic.iloc[:train_len][y_feature]"
   ]
  },
  {
   "cell_type": "code",
   "execution_count": 280,
   "metadata": {},
   "outputs": [
    {
     "output_type": "execute_result",
     "data": {
      "text/plain": [
       "             Sex       Age\n",
       "PassengerId               \n",
       "1              1  0.000022\n",
       "2              0  0.000038\n",
       "3              0  0.000026\n",
       "4              0  0.000035\n",
       "5              1  0.000035\n",
       "...          ...       ...\n",
       "708            1  0.000042\n",
       "709            0  0.000022\n",
       "710            1  0.000030\n",
       "711            0  0.000024\n",
       "712            1  0.000030\n",
       "\n",
       "[712 rows x 2 columns]"
      ],
      "text/html": "<div>\n<style scoped>\n    .dataframe tbody tr th:only-of-type {\n        vertical-align: middle;\n    }\n\n    .dataframe tbody tr th {\n        vertical-align: top;\n    }\n\n    .dataframe thead th {\n        text-align: right;\n    }\n</style>\n<table border=\"1\" class=\"dataframe\">\n  <thead>\n    <tr style=\"text-align: right;\">\n      <th></th>\n      <th>Sex</th>\n      <th>Age</th>\n    </tr>\n    <tr>\n      <th>PassengerId</th>\n      <th></th>\n      <th></th>\n    </tr>\n  </thead>\n  <tbody>\n    <tr>\n      <th>1</th>\n      <td>1</td>\n      <td>0.000022</td>\n    </tr>\n    <tr>\n      <th>2</th>\n      <td>0</td>\n      <td>0.000038</td>\n    </tr>\n    <tr>\n      <th>3</th>\n      <td>0</td>\n      <td>0.000026</td>\n    </tr>\n    <tr>\n      <th>4</th>\n      <td>0</td>\n      <td>0.000035</td>\n    </tr>\n    <tr>\n      <th>5</th>\n      <td>1</td>\n      <td>0.000035</td>\n    </tr>\n    <tr>\n      <th>...</th>\n      <td>...</td>\n      <td>...</td>\n    </tr>\n    <tr>\n      <th>708</th>\n      <td>1</td>\n      <td>0.000042</td>\n    </tr>\n    <tr>\n      <th>709</th>\n      <td>0</td>\n      <td>0.000022</td>\n    </tr>\n    <tr>\n      <th>710</th>\n      <td>1</td>\n      <td>0.000030</td>\n    </tr>\n    <tr>\n      <th>711</th>\n      <td>0</td>\n      <td>0.000024</td>\n    </tr>\n    <tr>\n      <th>712</th>\n      <td>1</td>\n      <td>0.000030</td>\n    </tr>\n  </tbody>\n</table>\n<p>712 rows × 2 columns</p>\n</div>"
     },
     "metadata": {},
     "execution_count": 280
    }
   ],
   "source": [
    "test_x"
   ]
  },
  {
   "cell_type": "code",
   "execution_count": 287,
   "metadata": {},
   "outputs": [
    {
     "output_type": "stream",
     "name": "stdout",
     "text": [
      "Model: \"sequential_59\"\n_________________________________________________________________\nLayer (type)                 Output Shape              Param #   \n=================================================================\ndense_123 (Dense)            (None, 1)                 4         \n=================================================================\nTotal params: 4\nTrainable params: 4\nNon-trainable params: 0\n_________________________________________________________________\n"
     ]
    }
   ],
   "source": [
    "model = keras.Sequential([\n",
    "    layers.Dense(1, activation='sigmoid', input_shape=[3]),\n",
    "    # layers.Dropout(0.2),\n",
    "    # layers.BatchNormalization(),\n",
    "    # layers.Dropout(0.2),\n",
    "    # layers.BatchNormalization(),\n",
    "    # layers.Dense(1, activation='softmax')\n",
    "])\n",
    "model.summary()"
   ]
  },
  {
   "cell_type": "code",
   "execution_count": 288,
   "metadata": {},
   "outputs": [],
   "source": [
    "model.compile(\n",
    "    optimizer='adam',\n",
    "    loss='mae',\n",
    "    metrics='accuracy'\n",
    ")"
   ]
  },
  {
   "cell_type": "code",
   "execution_count": 289,
   "metadata": {},
   "outputs": [
    {
     "output_type": "stream",
     "name": "stdout",
     "text": [
      "Epoch 1/12\n",
      "2/2 [==============================] - 0s 71ms/step - loss: 0.3633 - accuracy: 0.6425 - val_loss: 0.4009 - val_accuracy: 0.6096\n",
      "Epoch 2/12\n",
      "2/2 [==============================] - 0s 19ms/step - loss: 0.3632 - accuracy: 0.6425 - val_loss: 0.4007 - val_accuracy: 0.6096\n",
      "Epoch 3/12\n",
      "2/2 [==============================] - 0s 24ms/step - loss: 0.3630 - accuracy: 0.6425 - val_loss: 0.4006 - val_accuracy: 0.6096\n",
      "Epoch 4/12\n",
      "2/2 [==============================] - 0s 23ms/step - loss: 0.3629 - accuracy: 0.6425 - val_loss: 0.4004 - val_accuracy: 0.6096\n",
      "Epoch 5/12\n",
      "2/2 [==============================] - 0s 16ms/step - loss: 0.3627 - accuracy: 0.6425 - val_loss: 0.4003 - val_accuracy: 0.6096\n",
      "Epoch 6/12\n",
      "2/2 [==============================] - 0s 22ms/step - loss: 0.3626 - accuracy: 0.6425 - val_loss: 0.4001 - val_accuracy: 0.6096\n",
      "Epoch 7/12\n",
      "2/2 [==============================] - 0s 24ms/step - loss: 0.3624 - accuracy: 0.6425 - val_loss: 0.4000 - val_accuracy: 0.6096\n",
      "Epoch 8/12\n",
      "2/2 [==============================] - 0s 19ms/step - loss: 0.3623 - accuracy: 0.6425 - val_loss: 0.3999 - val_accuracy: 0.6096\n",
      "Epoch 9/12\n",
      "2/2 [==============================] - 0s 26ms/step - loss: 0.3621 - accuracy: 0.6425 - val_loss: 0.3997 - val_accuracy: 0.6096\n",
      "Epoch 10/12\n",
      "2/2 [==============================] - 0s 26ms/step - loss: 0.3619 - accuracy: 0.6425 - val_loss: 0.3996 - val_accuracy: 0.6096\n",
      "Epoch 11/12\n",
      "2/2 [==============================] - 0s 20ms/step - loss: 0.3618 - accuracy: 0.6425 - val_loss: 0.3995 - val_accuracy: 0.6096\n",
      "Epoch 12/12\n",
      "2/2 [==============================] - 0s 20ms/step - loss: 0.3617 - accuracy: 0.6425 - val_loss: 0.3993 - val_accuracy: 0.6096\n"
     ]
    },
    {
     "output_type": "execute_result",
     "data": {
      "text/plain": [
       "<tensorflow.python.keras.callbacks.History at 0x7fe0cf09de50>"
      ]
     },
     "metadata": {},
     "execution_count": 289
    }
   ],
   "source": [
    "model.fit(\n",
    "    train_x, train_y,\n",
    "    validation_data=(test_x, test_y),\n",
    "    batch_size=100,\n",
    "    epochs=12\n",
    ")"
   ]
  },
  {
   "cell_type": "code",
   "execution_count": 248,
   "metadata": {},
   "outputs": [],
   "source": [
    "submission = pd.read_csv('data/train.csv')\n",
    "submission['Sex'] = (submission['Sex'] == 'male').astype('int')\n",
    "submission['Age'].fillna(submission['Age'].mean(), inplace=True)\n",
    "submission['Age'] = submission['Age'] / 100"
   ]
  },
  {
   "cell_type": "code",
   "execution_count": 249,
   "metadata": {},
   "outputs": [
    {
     "output_type": "execute_result",
     "data": {
      "text/plain": [
       "PassengerId      0\n",
       "Pclass           0\n",
       "Name             0\n",
       "Sex              0\n",
       "Age              0\n",
       "SibSp            0\n",
       "Parch            0\n",
       "Ticket           0\n",
       "Fare             1\n",
       "Cabin          327\n",
       "Embarked         0\n",
       "dtype: int64"
      ]
     },
     "metadata": {},
     "execution_count": 249
    }
   ],
   "source": [
    "submission.head()\n",
    "submission.isna().sum()"
   ]
  },
  {
   "cell_type": "code",
   "execution_count": 250,
   "metadata": {},
   "outputs": [],
   "source": [
    "submission_y = model.predict(submission[x_feature])"
   ]
  },
  {
   "cell_type": "code",
   "execution_count": 251,
   "metadata": {},
   "outputs": [],
   "source": [
    "def get_first_value (x):\n",
    "    return (x[0] > 0.5).astype('int')\n",
    "submission_y_clean = np.array([get_first_value(x) for x in submission_y])"
   ]
  },
  {
   "cell_type": "code",
   "execution_count": 252,
   "metadata": {},
   "outputs": [],
   "source": [
    "submission_df = pd.DataFrame({\n",
    "    'PassengerId': submission.PassengerId,\n",
    "    'Survived': submission_y_clean\n",
    "}).set_index('PassengerId')"
   ]
  },
  {
   "cell_type": "code",
   "execution_count": 253,
   "metadata": {},
   "outputs": [],
   "source": [
    "submission_df.to_csv('data/sigmoid1_submission.csv')"
   ]
  }
 ],
 "metadata": {
  "kernelspec": {
   "name": "kggl-comp-kernel",
   "display_name": "kggl-comp-kernel",
   "language": "python"
  },
  "language_info": {
   "codemirror_mode": {
    "name": "ipython",
    "version": 3
   },
   "file_extension": ".py",
   "mimetype": "text/x-python",
   "name": "python",
   "nbconvert_exporter": "python",
   "pygments_lexer": "ipython3",
   "version": "3.8.5-final"
  }
 },
 "nbformat": 4,
 "nbformat_minor": 4
}